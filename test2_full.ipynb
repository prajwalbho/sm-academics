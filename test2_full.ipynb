{
 "cells": [
  {
   "cell_type": "code",
   "execution_count": 6,
   "metadata": {},
   "outputs": [],
   "source": [
    "import pandas as pd\n",
    "from sklearn.linear_model import LinearRegression\n",
    "from sklearn.linear_model import Lasso\n",
    "from sklearn.model_selection import GridSearchCV\n",
    "import statsmodels.formula.api as smf\n",
    "import matplotlib.pyplot as plt\n",
    "import numpy as np"
   ]
  },
  {
   "cell_type": "code",
   "execution_count": 7,
   "metadata": {},
   "outputs": [],
   "source": [
    "import pandas as pd\n",
    "import statsmodels.api as sm\n",
    "\n",
    "\n",
    "def forward_regression(X, y,\n",
    "                       threshold_in,\n",
    "                       verbose=False):\n",
    "    initial_list = []\n",
    "    included = list(initial_list)\n",
    "    while True:\n",
    "        changed=False\n",
    "        excluded = list(set(X.columns)-set(included))\n",
    "        new_pval = pd.Series(index=excluded)\n",
    "        for new_column in excluded:\n",
    "            model = sm.OLS(y, sm.add_constant(pd.DataFrame(X[included+[new_column]]))).fit()\n",
    "            new_pval[new_column] = model.pvalues[new_column]\n",
    "        best_pval = new_pval.min()\n",
    "        if best_pval < threshold_in:\n",
    "            best_feature = new_pval.idxmin()\n",
    "            included.append(best_feature)\n",
    "            changed=True\n",
    "            if verbose:\n",
    "                print('Add  {:30} with p-value {:.6}'.format(best_feature, best_pval))\n",
    "\n",
    "        if not changed:\n",
    "            break\n",
    "\n",
    "    return included\n",
    "\n",
    "def backward_regression(X, y,\n",
    "                           threshold_out,\n",
    "                           verbose=False):\n",
    "    included=list(X.columns)\n",
    "    while True:\n",
    "        changed=False\n",
    "        model = sm.OLS(y, sm.add_constant(pd.DataFrame(X[included]))).fit()\n",
    "        # use all coefs except intercept\n",
    "        pvalues = model.pvalues.iloc[1:]\n",
    "        worst_pval = pvalues.max() # null if pvalues is empty\n",
    "        if worst_pval > threshold_out:\n",
    "            changed=True\n",
    "            worst_feature = pvalues.idxmax()\n",
    "            included.remove(worst_feature)\n",
    "            if verbose:\n",
    "                print('Drop {:30} with p-value {:.6}'.format(worst_feature, worst_pval))\n",
    "        if not changed:\n",
    "            break\n",
    "    return included"
   ]
  },
  {
   "cell_type": "code",
   "execution_count": 8,
   "metadata": {},
   "outputs": [
    {
     "name": "stdout",
     "output_type": "stream",
     "text": [
      "    Section   BusStat1   BusStat2  Gender  SocialMediaHrs  SleepTime  \\\n",
      "0         1  25.000000  64.444444       1             7.0        8.0   \n",
      "1         1  94.444444  95.000000       1             7.0        8.0   \n",
      "2         1  50.000000  78.333333       0             7.0        9.0   \n",
      "3         1  22.000000  82.194444       0             6.0        7.0   \n",
      "4         1  69.444444  81.111111       1             5.5        8.5   \n",
      "..      ...        ...        ...     ...             ...        ...   \n",
      "57        4  66.666667  64.444444       1             7.0        9.0   \n",
      "58        4  44.444444  81.111111       1             3.5        7.0   \n",
      "59        4  41.666700  56.111100       0             3.0        7.0   \n",
      "60        4  61.111111  61.666667       0             3.0        7.5   \n",
      "61        4  58.333333  70.000000       1             3.0        8.0   \n",
      "\n",
      "    SleepHrs  Attention  Type   Format  \n",
      "0        7.0         60     0  Offline  \n",
      "1        4.5         90     0  Offline  \n",
      "2        6.5          5     0  Offline  \n",
      "3        6.0         90     0  Offline  \n",
      "4        5.5         30     0  Offline  \n",
      "..       ...        ...   ...      ...  \n",
      "57       6.0         90     1   Online  \n",
      "58       8.0         90     1   Online  \n",
      "59       7.0         90     1   Online  \n",
      "60       7.5         90     1   Online  \n",
      "61       6.5         90     1   Online  \n",
      "\n",
      "[62 rows x 10 columns]\n"
     ]
    }
   ],
   "source": [
    "df = pd.read_excel(r'data_statsproj.xlsx')\n",
    "print (df)"
   ]
  },
  {
   "cell_type": "code",
   "execution_count": 9,
   "metadata": {},
   "outputs": [],
   "source": [
    "y='BusStat2'\n",
    "df_reg=df"
   ]
  },
  {
   "cell_type": "code",
   "execution_count": 15,
   "metadata": {},
   "outputs": [
    {
     "name": "stderr",
     "output_type": "stream",
     "text": [
      "D:\\anaconda3\\lib\\site-packages\\sklearn\\model_selection\\_search.py:813: DeprecationWarning: The default of the `iid` parameter will change from True to False in version 0.22 and will be removed in 0.24. This will change numeric results when test-set sizes are unequal.\n",
      "  DeprecationWarning)\n"
     ]
    },
    {
     "data": {
      "text/plain": [
       "array([-0.        , -0.        , -0.        ,  0.08518315,  0.        ,\n",
       "       -0.        ])"
      ]
     },
     "execution_count": 15,
     "metadata": {},
     "output_type": "execute_result"
    }
   ],
   "source": [
    "lasso = Lasso()\n",
    "\n",
    "parameters = {\"alpha\":[1e-8, 1e-4, 1e-3, 1e-2, 1, 5, 10, 20]}\n",
    "lasso_regression = GridSearchCV(lasso, parameters, scoring='neg_mean_squared_error', cv=3)\n",
    "reg_out_sec1_lasso=lasso_regression.fit(df_reg[['SocialMediaHrs','SleepTime','SleepHrs','Attention','Gender','Type']].values, df_reg[[y]])\n",
    "reg_out_sec1_lasso.best_estimator_.coef_"
   ]
  },
  {
   "cell_type": "code",
   "execution_count": 13,
   "metadata": {},
   "outputs": [
    {
     "data": {
      "text/plain": [
       "{'alpha': 10}"
      ]
     },
     "execution_count": 13,
     "metadata": {},
     "output_type": "execute_result"
    }
   ],
   "source": [
    "lasso_regression.best_params_"
   ]
  },
  {
   "cell_type": "code",
   "execution_count": 13,
   "metadata": {},
   "outputs": [
    {
     "data": {
      "text/plain": [
       "array([[-10.73506901,  -0.89512101,   0.06028131,  -0.18255267,\n",
       "          0.09999384,   1.18832987]])"
      ]
     },
     "execution_count": 13,
     "metadata": {},
     "output_type": "execute_result"
    }
   ],
   "source": [
    "linreg=LinearRegression()\n",
    "reg_out_sec1=linreg.fit(df_reg[['Type','SleepHrs','SleepTime','SocialMediaHrs','Attention','Gender']].values.astype(float), df_reg[[y]])\n",
    "reg_out_sec1.coef_"
   ]
  },
  {
   "cell_type": "code",
   "execution_count": 14,
   "metadata": {},
   "outputs": [
    {
     "name": "stdout",
     "output_type": "stream",
     "text": [
      "x1   -9.911430\n",
      "x2    4.128690\n",
      "x3    3.023989\n",
      "x4    2.029305\n",
      "x5    0.185701\n",
      "x6    2.886581\n",
      "dtype: float64\n",
      "x1    0.022938\n",
      "x2    0.000221\n",
      "x3    0.001911\n",
      "x4    0.059940\n",
      "x5    0.007261\n",
      "x6    0.496724\n",
      "dtype: float64\n",
      "                            OLS Regression Results                            \n",
      "==============================================================================\n",
      "Dep. Variable:               BusStat2   R-squared:                       0.948\n",
      "Model:                            OLS   Adj. R-squared:                  0.943\n",
      "Method:                 Least Squares   F-statistic:                     171.9\n",
      "Date:                Mon, 30 Nov 2020   Prob (F-statistic):           3.35e-34\n",
      "Time:                        08:32:53   Log-Likelihood:                -255.05\n",
      "No. Observations:                  62   AIC:                             522.1\n",
      "Df Residuals:                      56   BIC:                             534.9\n",
      "Df Model:                           6                                         \n",
      "Covariance Type:            nonrobust                                         \n",
      "==============================================================================\n",
      "                 coef    std err          t      P>|t|      [0.025      0.975]\n",
      "------------------------------------------------------------------------------\n",
      "x1            -9.9114      4.238     -2.339      0.023     -18.401      -1.422\n",
      "x2             4.1287      1.045      3.950      0.000       2.035       6.222\n",
      "x3             3.0240      0.928      3.258      0.002       1.164       4.884\n",
      "x4             2.0293      1.057      1.920      0.060      -0.088       4.146\n",
      "x5             0.1857      0.067      2.786      0.007       0.052       0.319\n",
      "x6             2.8866      4.219      0.684      0.497      -5.566      11.339\n",
      "==============================================================================\n",
      "Omnibus:                        0.621   Durbin-Watson:                   2.139\n",
      "Prob(Omnibus):                  0.733   Jarque-Bera (JB):                0.351\n",
      "Skew:                          -0.183   Prob(JB):                        0.839\n",
      "Kurtosis:                       3.039   Cond. No.                         132.\n",
      "==============================================================================\n",
      "\n",
      "Warnings:\n",
      "[1] Standard Errors assume that the covariance matrix of the errors is correctly specified.\n"
     ]
    }
   ],
   "source": [
    "from statsmodels.regression import linear_model\n",
    "import statsmodels.api as sm\n",
    "model = sm.OLS( df_reg[[y]], df_reg[['Type','SleepHrs','SleepTime','SocialMediaHrs','Attention','Gender']].values.astype(float))\n",
    "results = model.fit()\n",
    "print(results.params)\n",
    "print(results.pvalues)\n",
    "print(results.summary())"
   ]
  },
  {
   "cell_type": "code",
   "execution_count": 18,
   "metadata": {},
   "outputs": [
    {
     "data": {
      "text/plain": [
       "array([-9.9114,  4.1287,  3.024 ,  2.0293,  0.1857,  2.8866])"
      ]
     },
     "execution_count": 18,
     "metadata": {},
     "output_type": "execute_result"
    }
   ],
   "source": [
    "results.params.values.round(4)"
   ]
  },
  {
   "cell_type": "code",
   "execution_count": 19,
   "metadata": {},
   "outputs": [
    {
     "data": {
      "text/plain": [
       "array([2.290e-02, 2.000e-04, 1.900e-03, 5.990e-02, 7.300e-03, 4.967e-01])"
      ]
     },
     "execution_count": 19,
     "metadata": {},
     "output_type": "execute_result"
    }
   ],
   "source": [
    "results.pvalues.values.round(4)"
   ]
  },
  {
   "cell_type": "code",
   "execution_count": null,
   "metadata": {},
   "outputs": [],
   "source": [
    "fig = plt.figure(figsize=(12,8))\n",
    "fig = sm.graphics.plot_regress_exog(model, 'assists', fig=fig)\n",
    "plt.savefig('test2full_resid.png',type=png,dpi=600)"
   ]
  },
  {
   "cell_type": "code",
   "execution_count": 10,
   "metadata": {},
   "outputs": [
    {
     "name": "stderr",
     "output_type": "stream",
     "text": [
      "D:\\anaconda3\\lib\\site-packages\\ipykernel_launcher.py:13: DeprecationWarning: The default dtype for empty Series will be 'object' instead of 'float64' in a future version. Specify a dtype explicitly to silence this warning.\n",
      "  del sys.path[0]\n"
     ]
    },
    {
     "name": "stdout",
     "output_type": "stream",
     "text": [
      "Add  Type                           with p-value 0.00222679\n",
      "Add  Attention                      with p-value 0.0782229\n",
      "Add  SleepHrs                       with p-value 0.488172\n",
      "Add  Gender                         with p-value 0.733388\n",
      "Add  SocialMediaHrs                 with p-value 0.844292\n"
     ]
    }
   ],
   "source": [
    "out=forward_regression(df_reg[['SocialMediaHrs','SleepTime','SleepHrs','Attention','Gender','Type']],df_reg[[y]],threshold_in=0.9,verbose=True)"
   ]
  },
  {
   "cell_type": "code",
   "execution_count": null,
   "metadata": {},
   "outputs": [],
   "source": []
  }
 ],
 "metadata": {
  "kernelspec": {
   "display_name": "Python 3.7.3 64-bit ('base': conda)",
   "language": "python",
   "name": "python37364bitbasecondac31dea6cb7d64c599821de538c12ddbc"
  },
  "language_info": {
   "codemirror_mode": {
    "name": "ipython",
    "version": 3
   },
   "file_extension": ".py",
   "mimetype": "text/x-python",
   "name": "python",
   "nbconvert_exporter": "python",
   "pygments_lexer": "ipython3",
   "version": "3.7.3"
  }
 },
 "nbformat": 4,
 "nbformat_minor": 2
}
